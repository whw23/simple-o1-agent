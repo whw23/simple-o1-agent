{
 "cells": [
  {
   "cell_type": "markdown",
   "metadata": {},
   "source": [
    "# test function"
   ]
  },
  {
   "cell_type": "markdown",
   "metadata": {},
   "source": [
    "run_command：\n",
    "在用户系统上运行终端命令\n",
    "需要评估命令的安全性\n",
    "可以执行各种系统操作"
   ]
  },
  {
   "cell_type": "code",
   "execution_count": 7,
   "metadata": {},
   "outputs": [
    {
     "name": "stdout",
     "output_type": "stream",
     "text": [
      "The command is not safe, please confirm:\n",
      "dir\n",
      "Command finished with return code: 0\n",
      " 驱动器 C 中的卷是 Windows\n",
      " 卷的序列号是 8E6C-B99C\n",
      "\n",
      " c:\\Users\\whw23\\Desktop\\simple-o1-agent\\code 的目录\n",
      "\n",
      "2024/12/28  12:51    <DIR>          .\n",
      "2024/12/28  12:26    <DIR>          ..\n",
      "2024/12/28  12:53               150 test.py\n",
      "2024/12/28  13:58             6,807 test_function.ipynb\n",
      "               2 个文件          6,957 字节\n",
      "               2 个目录 117,546,582,016 可用字节\n",
      "\n"
     ]
    }
   ],
   "source": [
    "import subprocess\n",
    "\n",
    "def run_command(command, isSafe):\n",
    "    try: \n",
    "        subprocess \n",
    "    except NameError: \n",
    "        import subprocess\n",
    "\n",
    "    if not isSafe:\n",
    "        print(\"The command is not safe, please confirm:\")\n",
    "        print(command)\n",
    "        input(\"Press Enter to confirm...\")\n",
    "\n",
    "    try:\n",
    "        process = subprocess.Popen(command, shell=True, stdout=subprocess.PIPE, stderr=subprocess.PIPE, bufsize=1, text=False)\n",
    "        \n",
    "        output_lines = []\n",
    "        error_lines = []\n",
    "\n",
    "        for stdout_line in iter(process.stdout.readline, b\"\"):\n",
    "            output_lines.append(stdout_line)\n",
    "        for stderr_line in iter(process.stderr.readline, b\"\"):\n",
    "            error_lines.append(stderr_line)\n",
    "        \n",
    "        process.stdout.close()\n",
    "        process.stderr.close()\n",
    "        process.wait()\n",
    "\n",
    "        decoded_output = detect_encoding(b''.join(output_lines))\n",
    "        decoded_error = detect_encoding(b''.join(error_lines))\n",
    "\n",
    "        return decoded_output, decoded_error, process.returncode\n",
    "    except subprocess.CalledProcessError as e:\n",
    "        return None, str(e), e.returncode\n",
    "\n",
    "def detect_encoding(output):\n",
    "    try: \n",
    "        chardet \n",
    "    except NameError: \n",
    "        import chardet\n",
    "    encoding = chardet.detect(output)\n",
    "    return output.decode(encoding['encoding'])\n",
    "\n",
    "output, error, returncode = run_command(\"your_command_here\", isSafe=False)\n",
    "print(\"Command finished with return code:\", returncode)\n",
    "if output:\n",
    "    print(output)\n",
    "if error:\n",
    "    print(\"Error:\", error)\n"
   ]
  },
  {
   "cell_type": "code",
   "execution_count": 1,
   "metadata": {},
   "outputs": [],
   "source": [
    "# 获取当前系统类型\n",
    "def get_system_type():\n",
    "    import platform\n",
    "    return platform.system()"
   ]
  },
  {
   "cell_type": "code",
   "execution_count": 2,
   "metadata": {},
   "outputs": [
    {
     "data": {
      "text/plain": [
       "'Windows'"
      ]
     },
     "execution_count": 2,
     "metadata": {},
     "output_type": "execute_result"
    }
   ],
   "source": [
    "get_system_type()"
   ]
  }
 ],
 "metadata": {
  "kernelspec": {
   "display_name": "agent",
   "language": "python",
   "name": "python3"
  },
  "language_info": {
   "codemirror_mode": {
    "name": "ipython",
    "version": 3
   },
   "file_extension": ".py",
   "mimetype": "text/x-python",
   "name": "python",
   "nbconvert_exporter": "python",
   "pygments_lexer": "ipython3",
   "version": "3.12.8"
  }
 },
 "nbformat": 4,
 "nbformat_minor": 2
}
